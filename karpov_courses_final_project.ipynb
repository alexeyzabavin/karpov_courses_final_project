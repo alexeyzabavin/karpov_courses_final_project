{
 "cells": [
  {
   "cell_type": "code",
   "execution_count": 243,
   "id": "f89dc228",
   "metadata": {},
   "outputs": [],
   "source": [
    "import pandas as pd\n",
    "import seaborn as sns\n",
    "import statsmodels.api as sm\n",
    "import scipy.stats as st\n",
    "import numpy as np"
   ]
  },
  {
   "cell_type": "code",
   "execution_count": 244,
   "id": "920c7c9a",
   "metadata": {},
   "outputs": [],
   "source": [
    "purchases = pd.read_csv(r'C:\\Users\\Honor\\Downloads\\Проект_4_purchases.csv')"
   ]
  },
  {
   "cell_type": "code",
   "execution_count": 245,
   "id": "8cd60a9f",
   "metadata": {},
   "outputs": [
    {
     "data": {
      "text/html": [
       "<div>\n",
       "<style scoped>\n",
       "    .dataframe tbody tr th:only-of-type {\n",
       "        vertical-align: middle;\n",
       "    }\n",
       "\n",
       "    .dataframe tbody tr th {\n",
       "        vertical-align: top;\n",
       "    }\n",
       "\n",
       "    .dataframe thead th {\n",
       "        text-align: right;\n",
       "    }\n",
       "</style>\n",
       "<table border=\"1\" class=\"dataframe\">\n",
       "  <thead>\n",
       "    <tr style=\"text-align: right;\">\n",
       "      <th></th>\n",
       "      <th>user_id</th>\n",
       "      <th>revenue</th>\n",
       "    </tr>\n",
       "  </thead>\n",
       "  <tbody>\n",
       "    <tr>\n",
       "      <th>0</th>\n",
       "      <td>4412</td>\n",
       "      <td>1000.0</td>\n",
       "    </tr>\n",
       "    <tr>\n",
       "      <th>1</th>\n",
       "      <td>9000</td>\n",
       "      <td>701.0</td>\n",
       "    </tr>\n",
       "    <tr>\n",
       "      <th>2</th>\n",
       "      <td>9001</td>\n",
       "      <td>700.0</td>\n",
       "    </tr>\n",
       "    <tr>\n",
       "      <th>3</th>\n",
       "      <td>9002</td>\n",
       "      <td>702.0</td>\n",
       "    </tr>\n",
       "    <tr>\n",
       "      <th>4</th>\n",
       "      <td>5790</td>\n",
       "      <td>1002.0</td>\n",
       "    </tr>\n",
       "    <tr>\n",
       "      <th>...</th>\n",
       "      <td>...</td>\n",
       "      <td>...</td>\n",
       "    </tr>\n",
       "    <tr>\n",
       "      <th>536</th>\n",
       "      <td>5648</td>\n",
       "      <td>1908.0</td>\n",
       "    </tr>\n",
       "    <tr>\n",
       "      <th>537</th>\n",
       "      <td>2277</td>\n",
       "      <td>1912.0</td>\n",
       "    </tr>\n",
       "    <tr>\n",
       "      <th>538</th>\n",
       "      <td>5032</td>\n",
       "      <td>1911.0</td>\n",
       "    </tr>\n",
       "    <tr>\n",
       "      <th>539</th>\n",
       "      <td>908</td>\n",
       "      <td>1910.0</td>\n",
       "    </tr>\n",
       "    <tr>\n",
       "      <th>540</th>\n",
       "      <td>7413</td>\n",
       "      <td>1910.0</td>\n",
       "    </tr>\n",
       "  </tbody>\n",
       "</table>\n",
       "<p>541 rows × 2 columns</p>\n",
       "</div>"
      ],
      "text/plain": [
       "     user_id  revenue\n",
       "0       4412   1000.0\n",
       "1       9000    701.0\n",
       "2       9001    700.0\n",
       "3       9002    702.0\n",
       "4       5790   1002.0\n",
       "..       ...      ...\n",
       "536     5648   1908.0\n",
       "537     2277   1912.0\n",
       "538     5032   1911.0\n",
       "539      908   1910.0\n",
       "540     7413   1910.0\n",
       "\n",
       "[541 rows x 2 columns]"
      ]
     },
     "execution_count": 245,
     "metadata": {},
     "output_type": "execute_result"
    }
   ],
   "source": [
    "purchases"
   ]
  },
  {
   "cell_type": "code",
   "execution_count": 246,
   "id": "0da392d4",
   "metadata": {},
   "outputs": [],
   "source": [
    "groups = pd.read_csv(r'C:\\Users\\Honor\\Downloads\\Проект_4_groups.csv')"
   ]
  },
  {
   "cell_type": "code",
   "execution_count": 247,
   "id": "ee223888",
   "metadata": {},
   "outputs": [
    {
     "data": {
      "text/html": [
       "<div>\n",
       "<style scoped>\n",
       "    .dataframe tbody tr th:only-of-type {\n",
       "        vertical-align: middle;\n",
       "    }\n",
       "\n",
       "    .dataframe tbody tr th {\n",
       "        vertical-align: top;\n",
       "    }\n",
       "\n",
       "    .dataframe thead th {\n",
       "        text-align: right;\n",
       "    }\n",
       "</style>\n",
       "<table border=\"1\" class=\"dataframe\">\n",
       "  <thead>\n",
       "    <tr style=\"text-align: right;\">\n",
       "      <th></th>\n",
       "      <th>user_id</th>\n",
       "      <th>group</th>\n",
       "    </tr>\n",
       "  </thead>\n",
       "  <tbody>\n",
       "    <tr>\n",
       "      <th>0</th>\n",
       "      <td>9149</td>\n",
       "      <td>B</td>\n",
       "    </tr>\n",
       "    <tr>\n",
       "      <th>1</th>\n",
       "      <td>9150</td>\n",
       "      <td>B</td>\n",
       "    </tr>\n",
       "    <tr>\n",
       "      <th>2</th>\n",
       "      <td>9151</td>\n",
       "      <td>A</td>\n",
       "    </tr>\n",
       "    <tr>\n",
       "      <th>3</th>\n",
       "      <td>9152</td>\n",
       "      <td>B</td>\n",
       "    </tr>\n",
       "    <tr>\n",
       "      <th>4</th>\n",
       "      <td>9153</td>\n",
       "      <td>B</td>\n",
       "    </tr>\n",
       "    <tr>\n",
       "      <th>...</th>\n",
       "      <td>...</td>\n",
       "      <td>...</td>\n",
       "    </tr>\n",
       "    <tr>\n",
       "      <th>74571</th>\n",
       "      <td>1010</td>\n",
       "      <td>B</td>\n",
       "    </tr>\n",
       "    <tr>\n",
       "      <th>74572</th>\n",
       "      <td>7785</td>\n",
       "      <td>A</td>\n",
       "    </tr>\n",
       "    <tr>\n",
       "      <th>74573</th>\n",
       "      <td>1783</td>\n",
       "      <td>B</td>\n",
       "    </tr>\n",
       "    <tr>\n",
       "      <th>74574</th>\n",
       "      <td>1164</td>\n",
       "      <td>A</td>\n",
       "    </tr>\n",
       "    <tr>\n",
       "      <th>74575</th>\n",
       "      <td>6282</td>\n",
       "      <td>B</td>\n",
       "    </tr>\n",
       "  </tbody>\n",
       "</table>\n",
       "<p>74576 rows × 2 columns</p>\n",
       "</div>"
      ],
      "text/plain": [
       "       user_id group\n",
       "0         9149     B\n",
       "1         9150     B\n",
       "2         9151     A\n",
       "3         9152     B\n",
       "4         9153     B\n",
       "...        ...   ...\n",
       "74571     1010     B\n",
       "74572     7785     A\n",
       "74573     1783     B\n",
       "74574     1164     A\n",
       "74575     6282     B\n",
       "\n",
       "[74576 rows x 2 columns]"
      ]
     },
     "execution_count": 247,
     "metadata": {},
     "output_type": "execute_result"
    }
   ],
   "source": [
    "groups"
   ]
  },
  {
   "cell_type": "code",
   "execution_count": 248,
   "id": "756c87aa",
   "metadata": {},
   "outputs": [],
   "source": [
    "active_users = pd.read_csv(r'C:\\Users\\Honor\\Downloads\\Проект_4_active_users.csv')"
   ]
  },
  {
   "cell_type": "code",
   "execution_count": 249,
   "id": "fe34f1c9",
   "metadata": {},
   "outputs": [
    {
     "data": {
      "text/html": [
       "<div>\n",
       "<style scoped>\n",
       "    .dataframe tbody tr th:only-of-type {\n",
       "        vertical-align: middle;\n",
       "    }\n",
       "\n",
       "    .dataframe tbody tr th {\n",
       "        vertical-align: top;\n",
       "    }\n",
       "\n",
       "    .dataframe thead th {\n",
       "        text-align: right;\n",
       "    }\n",
       "</style>\n",
       "<table border=\"1\" class=\"dataframe\">\n",
       "  <thead>\n",
       "    <tr style=\"text-align: right;\">\n",
       "      <th></th>\n",
       "      <th>user_id</th>\n",
       "      <th>country</th>\n",
       "      <th>platform</th>\n",
       "      <th>sex</th>\n",
       "    </tr>\n",
       "  </thead>\n",
       "  <tbody>\n",
       "    <tr>\n",
       "      <th>0</th>\n",
       "      <td>8029</td>\n",
       "      <td>Russia</td>\n",
       "      <td>ios</td>\n",
       "      <td>male</td>\n",
       "    </tr>\n",
       "    <tr>\n",
       "      <th>1</th>\n",
       "      <td>1735</td>\n",
       "      <td>Sweden</td>\n",
       "      <td>ios</td>\n",
       "      <td>male</td>\n",
       "    </tr>\n",
       "    <tr>\n",
       "      <th>2</th>\n",
       "      <td>7697</td>\n",
       "      <td>Russia</td>\n",
       "      <td>android</td>\n",
       "      <td>male</td>\n",
       "    </tr>\n",
       "    <tr>\n",
       "      <th>3</th>\n",
       "      <td>1421</td>\n",
       "      <td>Sweden</td>\n",
       "      <td>android</td>\n",
       "      <td>female</td>\n",
       "    </tr>\n",
       "    <tr>\n",
       "      <th>4</th>\n",
       "      <td>1704</td>\n",
       "      <td>Russia</td>\n",
       "      <td>ios</td>\n",
       "      <td>male</td>\n",
       "    </tr>\n",
       "    <tr>\n",
       "      <th>...</th>\n",
       "      <td>...</td>\n",
       "      <td>...</td>\n",
       "      <td>...</td>\n",
       "      <td>...</td>\n",
       "    </tr>\n",
       "    <tr>\n",
       "      <th>8336</th>\n",
       "      <td>2417</td>\n",
       "      <td>Sweden</td>\n",
       "      <td>ios</td>\n",
       "      <td>female</td>\n",
       "    </tr>\n",
       "    <tr>\n",
       "      <th>8337</th>\n",
       "      <td>3755</td>\n",
       "      <td>Russia</td>\n",
       "      <td>ios</td>\n",
       "      <td>male</td>\n",
       "    </tr>\n",
       "    <tr>\n",
       "      <th>8338</th>\n",
       "      <td>4594</td>\n",
       "      <td>Sweden</td>\n",
       "      <td>android</td>\n",
       "      <td>female</td>\n",
       "    </tr>\n",
       "    <tr>\n",
       "      <th>8339</th>\n",
       "      <td>7430</td>\n",
       "      <td>Sweden</td>\n",
       "      <td>ios</td>\n",
       "      <td>female</td>\n",
       "    </tr>\n",
       "    <tr>\n",
       "      <th>8340</th>\n",
       "      <td>2460</td>\n",
       "      <td>Russia</td>\n",
       "      <td>android</td>\n",
       "      <td>female</td>\n",
       "    </tr>\n",
       "  </tbody>\n",
       "</table>\n",
       "<p>8341 rows × 4 columns</p>\n",
       "</div>"
      ],
      "text/plain": [
       "      user_id country platform     sex\n",
       "0        8029  Russia      ios    male\n",
       "1        1735  Sweden      ios    male\n",
       "2        7697  Russia  android    male\n",
       "3        1421  Sweden  android  female\n",
       "4        1704  Russia      ios    male\n",
       "...       ...     ...      ...     ...\n",
       "8336     2417  Sweden      ios  female\n",
       "8337     3755  Russia      ios    male\n",
       "8338     4594  Sweden  android  female\n",
       "8339     7430  Sweden      ios  female\n",
       "8340     2460  Russia  android  female\n",
       "\n",
       "[8341 rows x 4 columns]"
      ]
     },
     "execution_count": 249,
     "metadata": {},
     "output_type": "execute_result"
    }
   ],
   "source": [
    "active_users"
   ]
  },
  {
   "cell_type": "code",
   "execution_count": 250,
   "id": "2a69d843",
   "metadata": {},
   "outputs": [
    {
     "data": {
      "text/html": [
       "<div>\n",
       "<style scoped>\n",
       "    .dataframe tbody tr th:only-of-type {\n",
       "        vertical-align: middle;\n",
       "    }\n",
       "\n",
       "    .dataframe tbody tr th {\n",
       "        vertical-align: top;\n",
       "    }\n",
       "\n",
       "    .dataframe thead th {\n",
       "        text-align: right;\n",
       "    }\n",
       "</style>\n",
       "<table border=\"1\" class=\"dataframe\">\n",
       "  <thead>\n",
       "    <tr style=\"text-align: right;\">\n",
       "      <th></th>\n",
       "      <th>user_id</th>\n",
       "      <th>country</th>\n",
       "      <th>platform</th>\n",
       "      <th>sex</th>\n",
       "      <th>group</th>\n",
       "      <th>revenue</th>\n",
       "    </tr>\n",
       "  </thead>\n",
       "  <tbody>\n",
       "    <tr>\n",
       "      <th>0</th>\n",
       "      <td>8029</td>\n",
       "      <td>Russia</td>\n",
       "      <td>ios</td>\n",
       "      <td>male</td>\n",
       "      <td>B</td>\n",
       "      <td>0.0</td>\n",
       "    </tr>\n",
       "    <tr>\n",
       "      <th>1</th>\n",
       "      <td>1735</td>\n",
       "      <td>Sweden</td>\n",
       "      <td>ios</td>\n",
       "      <td>male</td>\n",
       "      <td>B</td>\n",
       "      <td>0.0</td>\n",
       "    </tr>\n",
       "    <tr>\n",
       "      <th>2</th>\n",
       "      <td>7697</td>\n",
       "      <td>Russia</td>\n",
       "      <td>android</td>\n",
       "      <td>male</td>\n",
       "      <td>B</td>\n",
       "      <td>0.0</td>\n",
       "    </tr>\n",
       "    <tr>\n",
       "      <th>3</th>\n",
       "      <td>1421</td>\n",
       "      <td>Sweden</td>\n",
       "      <td>android</td>\n",
       "      <td>female</td>\n",
       "      <td>B</td>\n",
       "      <td>0.0</td>\n",
       "    </tr>\n",
       "    <tr>\n",
       "      <th>4</th>\n",
       "      <td>1704</td>\n",
       "      <td>Russia</td>\n",
       "      <td>ios</td>\n",
       "      <td>male</td>\n",
       "      <td>B</td>\n",
       "      <td>0.0</td>\n",
       "    </tr>\n",
       "  </tbody>\n",
       "</table>\n",
       "</div>"
      ],
      "text/plain": [
       "   user_id country platform     sex group  revenue\n",
       "0     8029  Russia      ios    male     B      0.0\n",
       "1     1735  Sweden      ios    male     B      0.0\n",
       "2     7697  Russia  android    male     B      0.0\n",
       "3     1421  Sweden  android  female     B      0.0\n",
       "4     1704  Russia      ios    male     B      0.0"
      ]
     },
     "execution_count": 250,
     "metadata": {},
     "output_type": "execute_result"
    }
   ],
   "source": [
    "ab_test = active_users.merge(groups, on='user_id') \\\n",
    "            .merge(purchases, on='user_id', how='left') \\\n",
    "            .fillna(0)\n",
    "ab_test.head()"
   ]
  },
  {
   "cell_type": "code",
   "execution_count": 251,
   "id": "9d33257d",
   "metadata": {},
   "outputs": [],
   "source": [
    "ab_test.to_csv(r'C:\\Users\\Honor\\Downloads\\AB.csv', encoding='utf-8', index=False)"
   ]
  },
  {
   "cell_type": "markdown",
   "id": "e64185ab",
   "metadata": {},
   "source": [
    "# Для сравнения двух групп были выбраны метрики ARPU, ARPPU,\n",
    "# CR(конверсия посещения приложения в покупку)"
   ]
  },
  {
   "cell_type": "markdown",
   "id": "40e0b8ce",
   "metadata": {},
   "source": [
    "выбор этих метрик обоснован тем, что ключевой показатель, на который нацелен эксперимент - выручка(revenue)"
   ]
  },
  {
   "cell_type": "code",
   "execution_count": 252,
   "id": "a3070775",
   "metadata": {},
   "outputs": [
    {
     "data": {
      "text/plain": [
       "47.853055916775034"
      ]
     },
     "execution_count": 252,
     "metadata": {},
     "output_type": "execute_result"
    }
   ],
   "source": [
    "ARPU_A = ab_test.query('group==\"A\"') \\\n",
    "        .revenue.mean()\n",
    "ARPU_A"
   ]
  },
  {
   "cell_type": "code",
   "execution_count": 253,
   "id": "fb2a8c5e",
   "metadata": {},
   "outputs": [
    {
     "data": {
      "text/plain": [
       "58.520211671321476"
      ]
     },
     "execution_count": 253,
     "metadata": {},
     "output_type": "execute_result"
    }
   ],
   "source": [
    "ARPU_B = ab_test.query('group==\"B\"') \\\n",
    "        .revenue.mean()\n",
    "ARPU_B"
   ]
  },
  {
   "cell_type": "code",
   "execution_count": 254,
   "id": "308336db",
   "metadata": {},
   "outputs": [
    {
     "data": {
      "text/plain": [
       "943.5641025641025"
      ]
     },
     "execution_count": 254,
     "metadata": {},
     "output_type": "execute_result"
    }
   ],
   "source": [
    "ARPPU_A = ab_test.query('group==\"A\" & revenue > 0').revenue.sum() \\\n",
    "            / ab_test.query('group==\"A\" & revenue > 0').user_id.count()\n",
    "ARPPU_A"
   ]
  },
  {
   "cell_type": "code",
   "execution_count": 255,
   "id": "953b966e",
   "metadata": {},
   "outputs": [
    {
     "data": {
      "text/plain": [
       "1267.875796178344"
      ]
     },
     "execution_count": 255,
     "metadata": {},
     "output_type": "execute_result"
    }
   ],
   "source": [
    "ARPPU_B = ab_test.query('group==\"B\" & revenue > 0').revenue.sum() \\\n",
    "            / ab_test.query('group==\"B\" & revenue > 0').user_id.count()\n",
    "ARPPU_B"
   ]
  },
  {
   "cell_type": "code",
   "execution_count": 256,
   "id": "148f034e",
   "metadata": {},
   "outputs": [
    {
     "data": {
      "text/plain": [
       "0.05071521456436931"
      ]
     },
     "execution_count": 256,
     "metadata": {},
     "output_type": "execute_result"
    }
   ],
   "source": [
    "CR_A = ab_test.query('group==\"A\" & revenue > 0').user_id.count() \\\n",
    "                / ab_test.query('group==\"A\"').user_id.count()\n",
    "CR_A"
   ]
  },
  {
   "cell_type": "code",
   "execution_count": 257,
   "id": "61b07deb",
   "metadata": {},
   "outputs": [
    {
     "data": {
      "text/plain": [
       "0.046156107599588415"
      ]
     },
     "execution_count": 257,
     "metadata": {},
     "output_type": "execute_result"
    }
   ],
   "source": [
    "CR_B = ab_test.query('group==\"B\" & revenue > 0').user_id.count() \\\n",
    "                / ab_test.query('group==\"B\"').user_id.count()\n",
    "CR_B"
   ]
  },
  {
   "cell_type": "markdown",
   "id": "1ad2352e",
   "metadata": {},
   "source": [
    "# Проверка на равномерное распределение юзеров\n",
    "# по платформам, странам и полу"
   ]
  },
  {
   "cell_type": "code",
   "execution_count": 258,
   "id": "8411b7d5",
   "metadata": {},
   "outputs": [
    {
     "data": {
      "text/html": [
       "<div>\n",
       "<style scoped>\n",
       "    .dataframe tbody tr th:only-of-type {\n",
       "        vertical-align: middle;\n",
       "    }\n",
       "\n",
       "    .dataframe tbody tr th {\n",
       "        vertical-align: top;\n",
       "    }\n",
       "\n",
       "    .dataframe thead th {\n",
       "        text-align: right;\n",
       "    }\n",
       "</style>\n",
       "<table border=\"1\" class=\"dataframe\">\n",
       "  <thead>\n",
       "    <tr style=\"text-align: right;\">\n",
       "      <th>platform</th>\n",
       "      <th>android</th>\n",
       "      <th>ios</th>\n",
       "    </tr>\n",
       "    <tr>\n",
       "      <th>group</th>\n",
       "      <th></th>\n",
       "      <th></th>\n",
       "    </tr>\n",
       "  </thead>\n",
       "  <tbody>\n",
       "    <tr>\n",
       "      <th>A</th>\n",
       "      <td>834</td>\n",
       "      <td>704</td>\n",
       "    </tr>\n",
       "    <tr>\n",
       "      <th>B</th>\n",
       "      <td>3787</td>\n",
       "      <td>3016</td>\n",
       "    </tr>\n",
       "  </tbody>\n",
       "</table>\n",
       "</div>"
      ],
      "text/plain": [
       "platform  android   ios\n",
       "group                  \n",
       "A             834   704\n",
       "B            3787  3016"
      ]
     },
     "execution_count": 258,
     "metadata": {},
     "output_type": "execute_result"
    }
   ],
   "source": [
    "pd.crosstab(ab_test.group, ab_test.platform)"
   ]
  },
  {
   "cell_type": "code",
   "execution_count": 259,
   "id": "591ee8cd",
   "metadata": {},
   "outputs": [
    {
     "data": {
      "text/html": [
       "<div>\n",
       "<style scoped>\n",
       "    .dataframe tbody tr th:only-of-type {\n",
       "        vertical-align: middle;\n",
       "    }\n",
       "\n",
       "    .dataframe tbody tr th {\n",
       "        vertical-align: top;\n",
       "    }\n",
       "\n",
       "    .dataframe thead th {\n",
       "        text-align: right;\n",
       "    }\n",
       "</style>\n",
       "<table border=\"1\" class=\"dataframe\">\n",
       "  <thead>\n",
       "    <tr style=\"text-align: right;\">\n",
       "      <th>sex</th>\n",
       "      <th>female</th>\n",
       "      <th>male</th>\n",
       "    </tr>\n",
       "    <tr>\n",
       "      <th>group</th>\n",
       "      <th></th>\n",
       "      <th></th>\n",
       "    </tr>\n",
       "  </thead>\n",
       "  <tbody>\n",
       "    <tr>\n",
       "      <th>A</th>\n",
       "      <td>753</td>\n",
       "      <td>785</td>\n",
       "    </tr>\n",
       "    <tr>\n",
       "      <th>B</th>\n",
       "      <td>3392</td>\n",
       "      <td>3411</td>\n",
       "    </tr>\n",
       "  </tbody>\n",
       "</table>\n",
       "</div>"
      ],
      "text/plain": [
       "sex    female  male\n",
       "group              \n",
       "A         753   785\n",
       "B        3392  3411"
      ]
     },
     "execution_count": 259,
     "metadata": {},
     "output_type": "execute_result"
    }
   ],
   "source": [
    "pd.crosstab(ab_test.group, ab_test.sex)"
   ]
  },
  {
   "cell_type": "code",
   "execution_count": 260,
   "id": "01ccbdd1",
   "metadata": {},
   "outputs": [
    {
     "data": {
      "text/html": [
       "<div>\n",
       "<style scoped>\n",
       "    .dataframe tbody tr th:only-of-type {\n",
       "        vertical-align: middle;\n",
       "    }\n",
       "\n",
       "    .dataframe tbody tr th {\n",
       "        vertical-align: top;\n",
       "    }\n",
       "\n",
       "    .dataframe thead th {\n",
       "        text-align: right;\n",
       "    }\n",
       "</style>\n",
       "<table border=\"1\" class=\"dataframe\">\n",
       "  <thead>\n",
       "    <tr style=\"text-align: right;\">\n",
       "      <th>country</th>\n",
       "      <th>Russia</th>\n",
       "      <th>Sweden</th>\n",
       "    </tr>\n",
       "    <tr>\n",
       "      <th>group</th>\n",
       "      <th></th>\n",
       "      <th></th>\n",
       "    </tr>\n",
       "  </thead>\n",
       "  <tbody>\n",
       "    <tr>\n",
       "      <th>A</th>\n",
       "      <td>915</td>\n",
       "      <td>623</td>\n",
       "    </tr>\n",
       "    <tr>\n",
       "      <th>B</th>\n",
       "      <td>4492</td>\n",
       "      <td>2311</td>\n",
       "    </tr>\n",
       "  </tbody>\n",
       "</table>\n",
       "</div>"
      ],
      "text/plain": [
       "country  Russia  Sweden\n",
       "group                  \n",
       "A           915     623\n",
       "B          4492    2311"
      ]
     },
     "execution_count": 260,
     "metadata": {},
     "output_type": "execute_result"
    }
   ],
   "source": [
    "pd.crosstab(ab_test.group, ab_test.country)"
   ]
  },
  {
   "cell_type": "markdown",
   "id": "1d59e131",
   "metadata": {},
   "source": [
    "По распределению видно, что по отдельным критериям группы распределены примерно равномерно"
   ]
  },
  {
   "cell_type": "markdown",
   "id": "9beebcd2",
   "metadata": {},
   "source": [
    "# Проверка на нормальность распределения выборок"
   ]
  },
  {
   "cell_type": "code",
   "execution_count": 261,
   "id": "6d452b41",
   "metadata": {},
   "outputs": [
    {
     "name": "stderr",
     "output_type": "stream",
     "text": [
      "C:\\Users\\Honor\\anaconda3\\lib\\site-packages\\seaborn\\distributions.py:2557: FutureWarning: `distplot` is a deprecated function and will be removed in a future version. Please adapt your code to use either `displot` (a figure-level function with similar flexibility) or `histplot` (an axes-level function for histograms).\n",
      "  warnings.warn(msg, FutureWarning)\n"
     ]
    },
    {
     "data": {
      "text/plain": [
       "<AxesSubplot:xlabel='revenue', ylabel='Density'>"
      ]
     },
     "execution_count": 261,
     "metadata": {},
     "output_type": "execute_result"
    },
    {
     "data": {
      "image/png": "[encoded data removed]",
      "text/plain": [
       "<Figure size 432x288 with 1 Axes>"
      ]
     },
     "metadata": {
      "needs_background": "light"
     },
     "output_type": "display_data"
    }
   ],
   "source": [
    "sns.distplot(ab_test.query('group==\"B\" & revenue > 0').revenue)"
   ]
  },
  {
   "cell_type": "code",
   "execution_count": 262,
   "id": "91e0b42e",
   "metadata": {},
   "outputs": [
    {
     "name": "stderr",
     "output_type": "stream",
     "text": [
      "C:\\Users\\Honor\\anaconda3\\lib\\site-packages\\seaborn\\distributions.py:2557: FutureWarning: `distplot` is a deprecated function and will be removed in a future version. Please adapt your code to use either `displot` (a figure-level function with similar flexibility) or `histplot` (an axes-level function for histograms).\n",
      "  warnings.warn(msg, FutureWarning)\n"
     ]
    },
    {
     "data": {
      "text/plain": [
       "<AxesSubplot:xlabel='revenue', ylabel='Density'>"
      ]
     },
     "execution_count": 262,
     "metadata": {},
     "output_type": "execute_result"
    },
    {
     "data": {
      "image/png": "[encoded data removed]",
      "text/plain": [
       "<Figure size 432x288 with 1 Axes>"
      ]
     },
     "metadata": {
      "needs_background": "light"
     },
     "output_type": "display_data"
    }
   ],
   "source": [
    "sns.distplot(ab_test.query('group==\"A\" & revenue > 0').revenue)"
   ]
  },
  {
   "cell_type": "code",
   "execution_count": 263,
   "id": "841b8400",
   "metadata": {},
   "outputs": [
    {
     "data": {
      "image/png": "[encoded data removed]",
      "text/plain": [
       "<Figure size 432x288 with 1 Axes>"
      ]
     },
     "execution_count": 263,
     "metadata": {},
     "output_type": "execute_result"
    },
    {
     "data": {
      "image/png": "[encoded data removed]",
      "text/plain": [
       "<Figure size 432x288 with 1 Axes>"
      ]
     },
     "metadata": {
      "needs_background": "light"
     },
     "output_type": "display_data"
    }
   ],
   "source": [
    "sm.qqplot(ab_test.query('group==\"A\" & revenue > 0').revenue, line='45', fit=True)"
   ]
  },
  {
   "cell_type": "code",
   "execution_count": 264,
   "id": "a9233eba",
   "metadata": {},
   "outputs": [
    {
     "data": {
      "image/png": "[encoded data removed]",
      "text/plain": [
       "<Figure size 432x288 with 1 Axes>"
      ]
     },
     "execution_count": 264,
     "metadata": {},
     "output_type": "execute_result"
    },
    {
     "data": {
      "image/png": "[encoded data removed]",
      "text/plain": [
       "<Figure size 432x288 with 1 Axes>"
      ]
     },
     "metadata": {
      "needs_background": "light"
     },
     "output_type": "display_data"
    }
   ],
   "source": [
    "sm.qqplot(ab_test.query('group==\"B\" & revenue > 0').revenue, line='45', fit=True)"
   ]
  },
  {
   "cell_type": "markdown",
   "id": "63acb738",
   "metadata": {},
   "source": [
    "# Т.к. выборки распределены не нормально, применяется метод Манна-Уитни.\n",
    "# Сравниваются чеки юзеров, которые совершили покупку"
   ]
  },
  {
   "cell_type": "code",
   "execution_count": 265,
   "id": "887a7265",
   "metadata": {},
   "outputs": [],
   "source": [
    "a = ab_test.query('group==\"A\" & revenue>0').revenue\n",
    "b = ab_test.query('group==\"B\" & revenue>0').revenue"
   ]
  },
  {
   "cell_type": "code",
   "execution_count": 266,
   "id": "9c42d6d8",
   "metadata": {},
   "outputs": [
    {
     "data": {
      "text/plain": [
       "MannwhitneyuResult(statistic=8961.0, pvalue=0.00023939080114586078)"
      ]
     },
     "execution_count": 266,
     "metadata": {},
     "output_type": "execute_result"
    }
   ],
   "source": [
    "st.mannwhitneyu(a, b)\n",
    "# По результатам теста можно сказать, что средние чеки платящих юзеров в группах значимо различаются.\n",
    "# Новая модель оплаты, с определенной вер-ю, побуждает юзеров покупать более дорогие или больше шаблонов для сторис."
   ]
  },
  {
   "cell_type": "markdown",
   "id": "4deae8fd",
   "metadata": {},
   "source": [
    "# Сравниваем средние чеки среди всех активных юзеров"
   ]
  },
  {
   "cell_type": "markdown",
   "id": "579b82a4",
   "metadata": {},
   "source": [
    "Данные так же распределены не нормально, поэтому применяем Манна-Уитни"
   ]
  },
  {
   "cell_type": "code",
   "execution_count": 267,
   "id": "b9a342ac",
   "metadata": {},
   "outputs": [],
   "source": [
    "a = ab_test.query('group==\"A\"').revenue\n",
    "b = ab_test.query('group==\"B\"').revenue"
   ]
  },
  {
   "cell_type": "code",
   "execution_count": 268,
   "id": "1a1287dd",
   "metadata": {},
   "outputs": [
    {
     "data": {
      "text/plain": [
       "MannwhitneyuResult(statistic=5252073.0, pvalue=0.5107994153653242)"
      ]
     },
     "execution_count": 268,
     "metadata": {},
     "output_type": "execute_result"
    }
   ],
   "source": [
    "st.mannwhitneyu(a, b)\n",
    "# Статистически значимых различий между двумя группами нет.\n",
    "# Различие средних чеков среди всех активных юзеров вызвано лишь различиями среди платящих юзеров,\n",
    "# что было показано в предыдущем тесте (средний чек пользователя, совершившего покупку стат. значимо вырос)"
   ]
  },
  {
   "cell_type": "markdown",
   "id": "5e508be1",
   "metadata": {},
   "source": [
    "Таким образом, можно сделать вывод, что новая модель оплаты стат. значимо увеличивает средний чек платящего пользователя\n",
    "и ее стоит выкатывать на всех юзеров."
   ]
  }
 ],
 "metadata": {
  "kernelspec": {
   "display_name": "Python 3",
   "language": "python",
   "name": "python3"
  },
  "language_info": {
   "codemirror_mode": {
    "name": "ipython",
    "version": 3
   },
   "file_extension": ".py",
   "mimetype": "text/x-python",
   "name": "python",
   "nbconvert_exporter": "python",
   "pygments_lexer": "ipython3",
   "version": "3.8.8"
  }
 },
 "nbformat": 4,
 "nbformat_minor": 5
}
